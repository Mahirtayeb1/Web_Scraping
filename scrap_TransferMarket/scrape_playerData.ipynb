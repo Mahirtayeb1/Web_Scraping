{
 "cells": [
  {
   "cell_type": "code",
   "execution_count": 1,
   "metadata": {},
   "outputs": [],
   "source": [
    "import re, bs4, requests\n",
    "\n",
    "from bs4 import BeautifulSoup"
   ]
  },
  {
   "cell_type": "code",
   "execution_count": 2,
   "metadata": {},
   "outputs": [
    {
     "name": "stdout",
     "output_type": "stream",
     "text": [
      "68290\n"
     ]
    }
   ],
   "source": [
    "url = \"https://www.transfermarkt.com/neymar/profil/spieler/68290\"\n",
    "player_id = url.split('/')[-1]\n",
    "print(player_id)"
   ]
  },
  {
   "cell_type": "code",
   "execution_count": 3,
   "metadata": {},
   "outputs": [],
   "source": [
    "headers = {\n",
    "    'User-Agent' : \"Mozilla/5.0 (Windows NT 10.0; Win64; x64) AppleWebKit/537.36 (KHTML, like Gecko) Chrome/131.0.0.0 Safari/537.36 OPR/116.0.0.0\"\n",
    "}"
   ]
  },
  {
   "cell_type": "code",
   "execution_count": 4,
   "metadata": {},
   "outputs": [],
   "source": [
    "response = requests.get(url, headers=headers)"
   ]
  },
  {
   "cell_type": "code",
   "execution_count": 5,
   "metadata": {},
   "outputs": [
    {
     "data": {
      "text/plain": [
       "200"
      ]
     },
     "execution_count": 5,
     "metadata": {},
     "output_type": "execute_result"
    }
   ],
   "source": [
    "response.status_code # 200 means Successful"
   ]
  },
  {
   "cell_type": "code",
   "execution_count": 6,
   "metadata": {},
   "outputs": [],
   "source": [
    "soup = BeautifulSoup(response.content, \"html.parser\")"
   ]
  },
  {
   "cell_type": "code",
   "execution_count": 7,
   "metadata": {},
   "outputs": [],
   "source": [
    "player_name= soup.select_one('h1[class=\"data-header__headline-wrapper\"]').text.split('\\n')[-1].strip()"
   ]
  },
  {
   "cell_type": "code",
   "execution_count": 8,
   "metadata": {},
   "outputs": [
    {
     "data": {
      "text/plain": [
       "'Neymar'"
      ]
     },
     "execution_count": 8,
     "metadata": {},
     "output_type": "execute_result"
    }
   ],
   "source": [
    "player_name"
   ]
  },
  {
   "cell_type": "code",
   "execution_count": 9,
   "metadata": {},
   "outputs": [],
   "source": [
    "player_jersey_number = soup.select_one('span[class=\"data-header__shirt-number\"]').text.split('\\n')[-1].strip().split('#')[-1]\n",
    "\n",
    "# according the tutorial\n",
    "# player_jersey_number = soup.select_one('span[class=\"data-header__shirt-number\"]').text.replace('#', '').strip()"
   ]
  },
  {
   "cell_type": "code",
   "execution_count": 10,
   "metadata": {},
   "outputs": [
    {
     "data": {
      "text/plain": [
       "10"
      ]
     },
     "execution_count": 10,
     "metadata": {},
     "output_type": "execute_result"
    }
   ],
   "source": [
    "int(player_jersey_number)"
   ]
  },
  {
   "cell_type": "code",
   "execution_count": 13,
   "metadata": {},
   "outputs": [],
   "source": [
    "player_contract_expires = re.search(\"Contract expires: .*__content\\\"(.*?)</span>\", str(soup)).group(1)"
   ]
  },
  {
   "cell_type": "code",
   "execution_count": 14,
   "metadata": {},
   "outputs": [
    {
     "data": {
      "text/plain": [
       "'>Jun 30, 2025'"
      ]
     },
     "execution_count": 14,
     "metadata": {},
     "output_type": "execute_result"
    }
   ],
   "source": [
    "player_contract_expires"
   ]
  },
  {
   "cell_type": "code",
   "execution_count": 15,
   "metadata": {},
   "outputs": [],
   "source": [
    "response = response = requests.get(f'https://www.transfermarkt.com/ceapi/marketValueDevelopment/graph/{player_id}', headers=headers)"
   ]
  },
  {
   "cell_type": "code",
   "execution_count": 16,
   "metadata": {},
   "outputs": [
    {
     "data": {
      "text/plain": [
       "200"
      ]
     },
     "execution_count": 16,
     "metadata": {},
     "output_type": "execute_result"
    }
   ],
   "source": [
    "response.status_code"
   ]
  },
  {
   "cell_type": "code",
   "execution_count": 17,
   "metadata": {},
   "outputs": [
    {
     "data": {
      "text/plain": [
       "{'list': [{'x': 1235257200000,\n",
       "   'y': 1000000,\n",
       "   'mw': '€1.00m',\n",
       "   'datum_mw': 'Feb 22, 2009',\n",
       "   'verein': 'Santos FC',\n",
       "   'age': '17',\n",
       "   'wappen': 'https://tmssl.akamaized.net//images/wappen/profil/221.png?lm=1412879099'},\n",
       "  {'x': 1244152800000,\n",
       "   'y': 1500000,\n",
       "   'mw': '€1.50m',\n",
       "   'datum_mw': 'Jun 5, 2009',\n",
       "   'verein': 'Santos FC',\n",
       "   'age': '17',\n",
       "   'wappen': ''},\n",
       "  {'x': 1252188000000,\n",
       "   'y': 2500000,\n",
       "   'mw': '€2.50m',\n",
       "   'datum_mw': 'Sep 6, 2009',\n",
       "   'verein': 'Santos FC',\n",
       "   'age': '17',\n",
       "   'wappen': ''},\n",
       "  {'x': 1260226800000,\n",
       "   'y': 6000000,\n",
       "   'mw': '€6.00m',\n",
       "   'datum_mw': 'Dec 8, 2009',\n",
       "   'verein': 'Santos FC',\n",
       "   'age': '17',\n",
       "   'wappen': ''},\n",
       "  {'x': 1271282400000,\n",
       "   'y': 10000000,\n",
       "   'mw': '€10.00m',\n",
       "   'datum_mw': 'Apr 15, 2010',\n",
       "   'verein': 'Santos FC',\n",
       "   'age': '18',\n",
       "   'wappen': ''},\n",
       "  {'x': 1283724000000,\n",
       "   'y': 14000000,\n",
       "   'mw': '€14.00m',\n",
       "   'datum_mw': 'Sep 6, 2010',\n",
       "   'verein': 'Santos FC',\n",
       "   'age': '18',\n",
       "   'wappen': ''},\n",
       "  {'x': 1291935600000,\n",
       "   'y': 18000000,\n",
       "   'mw': '€18.00m',\n",
       "   'datum_mw': 'Dec 10, 2010',\n",
       "   'verein': 'Santos FC',\n",
       "   'age': '18',\n",
       "   'wappen': ''},\n",
       "  {'x': 1306706400000,\n",
       "   'y': 25000000,\n",
       "   'mw': '€25.00m',\n",
       "   'datum_mw': 'May 30, 2011',\n",
       "   'verein': 'Santos FC',\n",
       "   'age': '19',\n",
       "   'wappen': ''},\n",
       "  {'x': 1313100000000,\n",
       "   'y': 30000000,\n",
       "   'mw': '€30.00m',\n",
       "   'datum_mw': 'Aug 12, 2011',\n",
       "   'verein': 'Santos FC',\n",
       "   'age': '19',\n",
       "   'wappen': ''},\n",
       "  {'x': 1323298800000,\n",
       "   'y': 30000000,\n",
       "   'mw': '€30.00m',\n",
       "   'datum_mw': 'Dec 8, 2011',\n",
       "   'verein': 'Santos FC',\n",
       "   'age': '19',\n",
       "   'wappen': ''},\n",
       "  {'x': 1337810400000,\n",
       "   'y': 30000000,\n",
       "   'mw': '€30.00m',\n",
       "   'datum_mw': 'May 24, 2012',\n",
       "   'verein': 'Santos FC',\n",
       "   'age': '20',\n",
       "   'wappen': ''},\n",
       "  {'x': 1344376800000,\n",
       "   'y': 40000000,\n",
       "   'mw': '€40.00m',\n",
       "   'datum_mw': 'Aug 8, 2012',\n",
       "   'verein': 'Santos FC',\n",
       "   'age': '20',\n",
       "   'wappen': ''},\n",
       "  {'x': 1354662000000,\n",
       "   'y': 40000000,\n",
       "   'mw': '€40.00m',\n",
       "   'datum_mw': 'Dec 5, 2012',\n",
       "   'verein': 'Santos FC',\n",
       "   'age': '20',\n",
       "   'wappen': ''},\n",
       "  {'x': 1361833200000,\n",
       "   'y': 50000000,\n",
       "   'mw': '€50.00m',\n",
       "   'datum_mw': 'Feb 26, 2013',\n",
       "   'verein': 'Santos FC',\n",
       "   'age': '21',\n",
       "   'wappen': ''},\n",
       "  {'x': 1375135200000,\n",
       "   'y': 50000000,\n",
       "   'mw': '€50.00m',\n",
       "   'datum_mw': 'Jul 30, 2013',\n",
       "   'verein': 'FC Barcelona',\n",
       "   'age': '21',\n",
       "   'wappen': 'https://tmssl.akamaized.net//images/wappen/profil/131.png?lm=1406739548'},\n",
       "  {'x': 1390431600000,\n",
       "   'y': 60000000,\n",
       "   'mw': '€60.00m',\n",
       "   'datum_mw': 'Jan 23, 2014',\n",
       "   'verein': 'FC Barcelona',\n",
       "   'age': '21',\n",
       "   'wappen': ''},\n",
       "  {'x': 1405807200000,\n",
       "   'y': 70000000,\n",
       "   'mw': '€70.00m',\n",
       "   'datum_mw': 'Jul 20, 2014',\n",
       "   'verein': 'FC Barcelona',\n",
       "   'age': '22',\n",
       "   'wappen': ''},\n",
       "  {'x': 1421967600000,\n",
       "   'y': 80000000,\n",
       "   'mw': '€80.00m',\n",
       "   'datum_mw': 'Jan 23, 2015',\n",
       "   'verein': 'FC Barcelona',\n",
       "   'age': '22',\n",
       "   'wappen': ''},\n",
       "  {'x': 1435701600000,\n",
       "   'y': 80000000,\n",
       "   'mw': '€80.00m',\n",
       "   'datum_mw': 'Jul 1, 2015',\n",
       "   'verein': 'FC Barcelona',\n",
       "   'age': '23',\n",
       "   'wappen': ''},\n",
       "  {'x': 1448146800000,\n",
       "   'y': 100000000,\n",
       "   'mw': '€100.00m',\n",
       "   'datum_mw': 'Nov 22, 2015',\n",
       "   'verein': 'FC Barcelona',\n",
       "   'age': '23',\n",
       "   'wappen': ''},\n",
       "  {'x': 1456095600000,\n",
       "   'y': 100000000,\n",
       "   'mw': '€100.00m',\n",
       "   'datum_mw': 'Feb 22, 2016',\n",
       "   'verein': 'FC Barcelona',\n",
       "   'age': '24',\n",
       "   'wappen': ''},\n",
       "  {'x': 1468533600000,\n",
       "   'y': 100000000,\n",
       "   'mw': '€100.00m',\n",
       "   'datum_mw': 'Jul 15, 2016',\n",
       "   'verein': 'FC Barcelona',\n",
       "   'age': '24',\n",
       "   'wappen': ''},\n",
       "  {'x': 1485212400000,\n",
       "   'y': 100000000,\n",
       "   'mw': '€100.00m',\n",
       "   'datum_mw': 'Jan 24, 2017',\n",
       "   'verein': 'FC Barcelona',\n",
       "   'age': '24',\n",
       "   'wappen': ''},\n",
       "  {'x': 1496613600000,\n",
       "   'y': 100000000,\n",
       "   'mw': '€100.00m',\n",
       "   'datum_mw': 'Jun 5, 2017',\n",
       "   'verein': 'FC Barcelona',\n",
       "   'age': '25',\n",
       "   'wappen': ''},\n",
       "  {'x': 1507759200000,\n",
       "   'y': 150000000,\n",
       "   'mw': '€150.00m',\n",
       "   'datum_mw': 'Oct 12, 2017',\n",
       "   'verein': 'Paris Saint-Germain',\n",
       "   'age': '25',\n",
       "   'wappen': 'https://tmssl.akamaized.net//images/wappen/profil/583_1522053508.png?lm=1522053508'},\n",
       "  {'x': 1516748400000,\n",
       "   'y': 180000000,\n",
       "   'mw': '€180.00m',\n",
       "   'datum_mw': 'Jan 24, 2018',\n",
       "   'verein': 'Paris Saint-Germain',\n",
       "   'age': '25',\n",
       "   'wappen': ''},\n",
       "  {'x': 1528063200000,\n",
       "   'y': 180000000,\n",
       "   'mw': '€180.00m',\n",
       "   'datum_mw': 'Jun 4, 2018',\n",
       "   'verein': 'Paris Saint-Germain',\n",
       "   'age': '26',\n",
       "   'wappen': ''},\n",
       "  {'x': 1545001200000,\n",
       "   'y': 180000000,\n",
       "   'mw': '€180.00m',\n",
       "   'datum_mw': 'Dec 17, 2018',\n",
       "   'verein': 'Paris Saint-Germain',\n",
       "   'age': '26',\n",
       "   'wappen': ''},\n",
       "  {'x': 1559512800000,\n",
       "   'y': 180000000,\n",
       "   'mw': '€180.00m',\n",
       "   'datum_mw': 'Jun 3, 2019',\n",
       "   'verein': 'Paris Saint-Germain',\n",
       "   'age': '27',\n",
       "   'wappen': ''},\n",
       "  {'x': 1576710000000,\n",
       "   'y': 160000000,\n",
       "   'mw': '€160.00m',\n",
       "   'datum_mw': 'Dec 19, 2019',\n",
       "   'verein': 'Paris Saint-Germain',\n",
       "   'age': '27',\n",
       "   'wappen': ''},\n",
       "  {'x': 1586296800000,\n",
       "   'y': 128000000,\n",
       "   'mw': '€128.00m',\n",
       "   'datum_mw': 'Apr 8, 2020',\n",
       "   'verein': 'Paris Saint-Germain',\n",
       "   'age': '28',\n",
       "   'wappen': ''},\n",
       "  {'x': 1602712800000,\n",
       "   'y': 128000000,\n",
       "   'mw': '€128.00m',\n",
       "   'datum_mw': 'Oct 15, 2020',\n",
       "   'verein': 'Paris Saint-Germain',\n",
       "   'age': '28',\n",
       "   'wappen': ''},\n",
       "  {'x': 1617919200000,\n",
       "   'y': 110000000,\n",
       "   'mw': '€110.00m',\n",
       "   'datum_mw': 'Apr 9, 2021',\n",
       "   'verein': 'Paris Saint-Germain',\n",
       "   'age': '29',\n",
       "   'wappen': ''},\n",
       "  {'x': 1622757600000,\n",
       "   'y': 100000000,\n",
       "   'mw': '€100.00m',\n",
       "   'datum_mw': 'Jun 4, 2021',\n",
       "   'verein': 'Paris Saint-Germain',\n",
       "   'age': '29',\n",
       "   'wappen': ''},\n",
       "  {'x': 1639609200000,\n",
       "   'y': 90000000,\n",
       "   'mw': '€90.00m',\n",
       "   'datum_mw': 'Dec 16, 2021',\n",
       "   'verein': 'Paris Saint-Germain',\n",
       "   'age': '29',\n",
       "   'wappen': ''},\n",
       "  {'x': 1653861600000,\n",
       "   'y': 75000000,\n",
       "   'mw': '€75.00m',\n",
       "   'datum_mw': 'May 30, 2022',\n",
       "   'verein': 'Paris Saint-Germain',\n",
       "   'age': '30',\n",
       "   'wappen': ''},\n",
       "  {'x': 1667343600000,\n",
       "   'y': 75000000,\n",
       "   'mw': '€75.00m',\n",
       "   'datum_mw': 'Nov 2, 2022',\n",
       "   'verein': 'Paris Saint-Germain',\n",
       "   'age': '30',\n",
       "   'wappen': ''},\n",
       "  {'x': 1679868000000,\n",
       "   'y': 70000000,\n",
       "   'mw': '€70.00m',\n",
       "   'datum_mw': 'Mar 27, 2023',\n",
       "   'verein': 'Paris Saint-Germain',\n",
       "   'age': '31',\n",
       "   'wappen': ''},\n",
       "  {'x': 1687816800000,\n",
       "   'y': 60000000,\n",
       "   'mw': '€60.00m',\n",
       "   'datum_mw': 'Jun 27, 2023',\n",
       "   'verein': 'Paris Saint-Germain',\n",
       "   'age': '31',\n",
       "   'wappen': ''},\n",
       "  {'x': 1698098400000,\n",
       "   'y': 50000000,\n",
       "   'mw': '€50.00m',\n",
       "   'datum_mw': 'Oct 24, 2023',\n",
       "   'verein': 'Al-Hilal SFC',\n",
       "   'age': '31',\n",
       "   'wappen': 'https://tmssl.akamaized.net//images/wappen/profil/1114.png?lm=1694169109'},\n",
       "  {'x': 1702594800000,\n",
       "   'y': 45000000,\n",
       "   'mw': '€45.00m',\n",
       "   'datum_mw': 'Dec 15, 2023',\n",
       "   'verein': 'Al-Hilal SFC',\n",
       "   'age': '31',\n",
       "   'wappen': ''},\n",
       "  {'x': 1717452000000,\n",
       "   'y': 30000000,\n",
       "   'mw': '€30.00m',\n",
       "   'datum_mw': 'Jun 4, 2024',\n",
       "   'verein': 'Al-Hilal SFC',\n",
       "   'age': '32',\n",
       "   'wappen': ''},\n",
       "  {'x': 1734044400000,\n",
       "   'y': 15000000,\n",
       "   'mw': '€15.00m',\n",
       "   'datum_mw': 'Dec 13, 2024',\n",
       "   'verein': 'Al-Hilal SFC',\n",
       "   'age': '32',\n",
       "   'wappen': 'https://tmssl.akamaized.net//images/wappen/profil/1114.png?lm=1694169109'}],\n",
       " 'current': '€15.00m',\n",
       " 'highest': '€180.00m',\n",
       " 'highest_date': 'Jan 24, 2018',\n",
       " 'last_change': 'Dec 13, 2024',\n",
       " 'details_url': '/neymar/marktwertverlauf/spieler/68290',\n",
       " 'thread': {'url': '', 'thread_title': '', 'count_replies': ''},\n",
       " 'translations': {'market value': 'Market value',\n",
       "  'team': 'Club',\n",
       "  'age': 'Age',\n",
       "  'resetZoom': 'Vollansicht',\n",
       "  'current': 'Current Market Value\\n\\n',\n",
       "  'highest': 'Highest market value',\n",
       "  'thread': 'View market value analysis',\n",
       "  'forum': 'Forum',\n",
       "  'details': 'Market value details',\n",
       "  'headline': 'Market value over time',\n",
       "  'lastChange': 'Last update'}}"
      ]
     },
     "execution_count": 17,
     "metadata": {},
     "output_type": "execute_result"
    }
   ],
   "source": [
    "response.json()"
   ]
  },
  {
   "cell_type": "code",
   "execution_count": 18,
   "metadata": {},
   "outputs": [
    {
     "data": {
      "text/plain": [
       "dict_keys(['list', 'current', 'highest', 'highest_date', 'last_change', 'details_url', 'thread', 'translations'])"
      ]
     },
     "execution_count": 18,
     "metadata": {},
     "output_type": "execute_result"
    }
   ],
   "source": [
    "response.json().keys()"
   ]
  },
  {
   "cell_type": "code",
   "execution_count": null,
   "metadata": {},
   "outputs": [],
   "source": []
  },
  {
   "cell_type": "code",
   "execution_count": null,
   "metadata": {},
   "outputs": [],
   "source": []
  },
  {
   "cell_type": "code",
   "execution_count": null,
   "metadata": {},
   "outputs": [],
   "source": []
  }
 ],
 "metadata": {
  "kernelspec": {
   "display_name": "Python 3",
   "language": "python",
   "name": "python3"
  },
  "language_info": {
   "codemirror_mode": {
    "name": "ipython",
    "version": 3
   },
   "file_extension": ".py",
   "mimetype": "text/x-python",
   "name": "python",
   "nbconvert_exporter": "python",
   "pygments_lexer": "ipython3",
   "version": "3.11.3"
  }
 },
 "nbformat": 4,
 "nbformat_minor": 2
}
